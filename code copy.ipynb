{
 "cells": [
  {
   "cell_type": "code",
   "execution_count": 1,
   "metadata": {},
   "outputs": [],
   "source": [
    "import requests\n",
    "import msal\n",
    "from dotenv import load_dotenv\n",
    "import os\n",
    "\n",
    "# Load biến môi trường\n",
    "load_dotenv()\n",
    "\n",
    "# Azure Client ID, Tenant ID, Client Secret từ file .env\n",
    "azure_client_id = os.getenv(\"AZURE_CLIENT_ID\")\n",
    "azure_tenant_id = os.getenv(\"AZURE_TENANT_ID\")\n",
    "azure_client_secret = os.getenv(\"AZURE_CLIENT_SECRET\")\n",
    "\n",
    "# SharePoint Site URL và ID của Drive\n",
    "sharepoint_site_url = \"maithujsc.sharepoint.com/sites/Trainingdocument\"\n",
    "drive_id = \"b!SJpkxkt_aECkl7ZK6YMWBTM-60BFIl5ChlC_cxyDngG7XD9-vWJITZvMeqzfYkAW\""
   ]
  },
  {
   "cell_type": "code",
   "execution_count": 15,
   "metadata": {},
   "outputs": [],
   "source": [
    "\n",
    "def get_access_token():\n",
    "    \"\"\"Lấy token truy cập Microsoft Graph API\"\"\"\n",
    "    app = msal.ConfidentialClientApplication(\n",
    "        azure_client_id,\n",
    "        authority=f\"https://login.microsoftonline.com/{azure_tenant_id}\",\n",
    "        client_credential=azure_client_secret\n",
    "    )\n",
    "    token = app.acquire_token_for_client(scopes=[\"https://graph.microsoft.com/.default\"])\n",
    "    return token[\"access_token\"]"
   ]
  },
  {
   "cell_type": "code",
   "execution_count": 16,
   "metadata": {},
   "outputs": [],
   "source": [
    "def get_files_in_folder():\n",
    "    \"\"\"Lấy danh sách các file PDF trong thư mục\"\"\"\n",
    "    token = get_access_token()\n",
    "    headers = {\"Authorization\": f\"Bearer {token}\"}\n",
    "    \n",
    "    # URL để lấy các file trong thư mục gốc của drive\n",
    "    url = f\"https://graph.microsoft.com/v1.0/drives/{drive_id}/root/children\"\n",
    "    \n",
    "    response = requests.get(url, headers=headers)\n",
    "    \n",
    "    # In thêm thông tin debug\n",
    "    print(f\"Response status code: {response.status_code}\")\n",
    "    if response.status_code == 200:\n",
    "        files = response.json().get(\"value\", [])\n",
    "        pdf_files = [file[\"name\"] for file in files if file[\"name\"].endswith(\".pdf\")]\n",
    "        print(f\"📂 Tìm thấy {len(pdf_files)} file PDF:\", pdf_files)\n",
    "        return pdf_files\n",
    "    else:\n",
    "        print(\"❌ Lỗi lấy danh sách file:\", response.json())\n",
    "        return []"
   ]
  },
  {
   "cell_type": "code",
   "execution_count": 17,
   "metadata": {},
   "outputs": [
    {
     "name": "stdout",
     "output_type": "stream",
     "text": [
      "Response status code: 200\n",
      "📂 Tìm thấy 5 file PDF: ['01. Mai Thu Packaging.pdf', 'Dao tao van hoa hoi nhap Mai Thu.pdf', 'Hướng dẫn sử dụng bộ app quản lý.pdf', 'HƯỚNG DẪN TẠO CHỮ KÝ EMAIL MỚI (1).pdf', 'Quản lý đơn hàng-phiếu SX - Power Apps.pdf']\n",
      "✅ Đã tải file: 01. Mai Thu Packaging.pdf\n",
      "✅ Đã tải file: Dao tao van hoa hoi nhap Mai Thu.pdf\n",
      "✅ Đã tải file: Hướng dẫn sử dụng bộ app quản lý.pdf\n",
      "✅ Đã tải file: HƯỚNG DẪN TẠO CHỮ KÝ EMAIL MỚI (1).pdf\n",
      "✅ Đã tải file: Quản lý đơn hàng-phiếu SX - Power Apps.pdf\n"
     ]
    }
   ],
   "source": [
    "def download_file(file_name):\n",
    "    \"\"\"Tải file PDF từ SharePoint\"\"\"\n",
    "    token = get_access_token()\n",
    "    headers = {\"Authorization\": f\"Bearer {token}\"}\n",
    "    url = f\"https://graph.microsoft.com/v1.0/drives/{drive_id}/root:/{file_name}:/content\"\n",
    "    \n",
    "    response = requests.get(url, headers=headers)\n",
    "    if response.status_code == 200:\n",
    "        # Lưu file vào thư mục downloads\n",
    "        with open(f\"downloads/{file_name}\", \"wb\") as f:\n",
    "            f.write(response.content)\n",
    "        print(f\"✅ Đã tải file: {file_name}\")\n",
    "    else:\n",
    "        print(f\"❌ Lỗi tải file {file_name}: {response.json()}\")\n",
    "\n",
    "# Tạo thư mục \"downloads\" nếu chưa có\n",
    "os.makedirs(\"downloads\", exist_ok=True)\n",
    "\n",
    "# Lấy danh sách file PDF và tải xuống\n",
    "pdf_files = get_files_in_folder()\n",
    "for file in pdf_files:\n",
    "    download_file(file)"
   ]
  },
  {
   "cell_type": "code",
   "execution_count": 5,
   "metadata": {},
   "outputs": [],
   "source": [
    "import fitz  # PyMuPDF\n",
    "import openai\n",
    "import json\n",
    "import os\n",
    "\n",
    "openai_api_key = os.getenv(\"OPENAI_API_KEY\")\n",
    "\n",
    "def extract_text_from_pdf(pdf_file):\n",
    "    \"\"\"Trích xuất văn bản từ file PDF\"\"\"\n",
    "    doc = fitz.open(pdf_file)  # Mở file PDF\n",
    "    text = \"\"\n",
    "    for page_num in range(doc.page_count):\n",
    "        page = doc.load_page(page_num)\n",
    "        text += page.get_text()  # Trích xuất văn bản từ mỗi trang\n",
    "    return text\n",
    "\n",
    "\n",
    "\n",
    "# Tạo embedding từ văn bản\n",
    "def get_embedding(text):\n",
    "    response = openai.Embedding.create(model=\"text-embedding-ada-002\", input=text)\n",
    "    embedding = response[\"data\"][0][\"embedding\"]\n",
    "\n",
    "    return response.data[0].embedding\n"
   ]
  },
  {
   "cell_type": "code",
   "execution_count": 6,
   "metadata": {},
   "outputs": [
    {
     "ename": "NameError",
     "evalue": "name 'pdf_files' is not defined",
     "output_type": "error",
     "traceback": [
      "\u001b[1;31m---------------------------------------------------------------------------\u001b[0m",
      "\u001b[1;31mNameError\u001b[0m                                 Traceback (most recent call last)",
      "Cell \u001b[1;32mIn[6], line 6\u001b[0m\n\u001b[0;32m      3\u001b[0m chroma_client \u001b[38;5;241m=\u001b[39m chromadb\u001b[38;5;241m.\u001b[39mPersistentClient(path\u001b[38;5;241m=\u001b[39m\u001b[38;5;124m\"\u001b[39m\u001b[38;5;124m./chroma_db\u001b[39m\u001b[38;5;124m\"\u001b[39m)  \u001b[38;5;66;03m# Tạo thư mục lưu trữ cơ sở dữ liệu\u001b[39;00m\n\u001b[0;32m      4\u001b[0m collection \u001b[38;5;241m=\u001b[39m chroma_client\u001b[38;5;241m.\u001b[39mget_or_create_collection(name\u001b[38;5;241m=\u001b[39m\u001b[38;5;124m\"\u001b[39m\u001b[38;5;124mtraining_docs\u001b[39m\u001b[38;5;124m\"\u001b[39m)  \u001b[38;5;66;03m# Tạo collection lưu tài liệu đào tạo\u001b[39;00m\n\u001b[1;32m----> 6\u001b[0m \u001b[38;5;28;01mfor\u001b[39;00m file_name \u001b[38;5;129;01min\u001b[39;00m \u001b[43mpdf_files\u001b[49m:\n\u001b[0;32m      7\u001b[0m     pdf_path \u001b[38;5;241m=\u001b[39m \u001b[38;5;124mf\u001b[39m\u001b[38;5;124m\"\u001b[39m\u001b[38;5;124mdownloads/\u001b[39m\u001b[38;5;132;01m{\u001b[39;00mfile_name\u001b[38;5;132;01m}\u001b[39;00m\u001b[38;5;124m\"\u001b[39m\n\u001b[0;32m      8\u001b[0m     text \u001b[38;5;241m=\u001b[39m extract_text_from_pdf(pdf_path)\n",
      "\u001b[1;31mNameError\u001b[0m: name 'pdf_files' is not defined"
     ]
    }
   ],
   "source": [
    "import chromadb\n",
    "\n",
    "chroma_client = chromadb.PersistentClient(path=\"./chroma_db\")  # Tạo thư mục lưu trữ cơ sở dữ liệu\n",
    "collection = chroma_client.get_or_create_collection(name=\"training_docs\")  # Tạo collection lưu tài liệu đào tạo\n",
    "\n",
    "for file_name in pdf_files:\n",
    "    pdf_path = f\"downloads/{file_name}\"\n",
    "    text = extract_text_from_pdf(pdf_path)\n",
    "\n",
    "    if text.strip():  # Kiểm tra xem file có nội dung không\n",
    "        collection.add(\n",
    "            documents=[text],\n",
    "            embeddings=[get_embedding(text)],\n",
    "            ids=[file_name]\n",
    "        )\n",
    "        print(f\"✅ Đã lưu vào ChromaDB: {file_name}\")\n",
    "    else:\n",
    "        print(f\"⚠️ File {file_name} không có nội dung!\")\n",
    "        \n",
    "# Kiểm tra số lượng tài liệu trong ChromaDB\n",
    "print(f\"📝 Số lượng tài liệu trong ChromaDB: {collection.count()}\")\n",
    "\n"
   ]
  },
  {
   "cell_type": "code",
   "execution_count": null,
   "metadata": {},
   "outputs": [],
   "source": [
    "def update_documents_periodically():\n",
    "    \"\"\"Kiểm tra và tải tài liệu mới định kỳ\"\"\"\n",
    "    while True:\n",
    "        print(\"Đang kiểm tra tài liệu mới từ SharePoint...\")\n",
    "        pdf_files = get_files_in_folder() \n",
    "        for file in pdf_files:\n",
    "            if file not in downloaded_files:\n",
    "                download_file(file) \n",
    "                downloaded_files.append(file)\n",
    "        time.sleep(7200)  "
   ]
  },
  {
   "cell_type": "code",
   "execution_count": null,
   "metadata": {},
   "outputs": [],
   "source": [
    "def update_chromadb_with_new_documents(pdf_files):\n",
    "    \"\"\"Cập nhật tài liệu mới vào ChromaDB\"\"\"\n",
    "    for file_name in pdf_files:\n",
    "        pdf_path = f\"downloads/{file_name}\"\n",
    "        text = extract_text_from_pdf(pdf_path) \n",
    "\n",
    "        if text.strip():  \n",
    "            collection.add(\n",
    "                documents=[text],\n",
    "                embeddings=[get_embedding(text)],\n",
    "                ids=[file_name]\n",
    "            )\n",
    "            print(f\"✅ Đã cập nhật vào ChromaDB: {file_name}\")\n",
    "        else:\n",
    "            print(f\"⚠️ File {file_name} không có nội dung!\")"
   ]
  },
  {
   "cell_type": "code",
   "execution_count": 12,
   "metadata": {},
   "outputs": [],
   "source": [
    "def collect_user_feedback(query, answer):\n",
    "    \"\"\"Thu thập phản hồi từ người dùng và lưu lại vào file\"\"\"\n",
    "    feedback = input(\"Câu trả lời này có chính xác không? (yes/no): \").lower()\n",
    "    \n",
    "    if feedback in [\"yes\", \"y\"]:\n",
    "        print(\"Cảm ơn bạn!\")\n",
    "        # Lưu lại phản hồi chính xác nếu cần (nếu bạn muốn lưu)\n",
    "        return True\n",
    "    else:\n",
    "        print(\"Cảm ơn bạn đã phản hồi! Tôi sẽ cải thiện.\")\n",
    "        # Lưu lại các câu trả lời không chính xác để phân tích\n",
    "        with open(\"feedback_log.txt\", \"a\", encoding=\"utf-8\") as f:\n",
    "            f.write(f\"Question: {query}, Answer: {answer}, Feedback: Incorrect\\n\")\n",
    "        return False"
   ]
  },
  {
   "cell_type": "code",
   "execution_count": 7,
   "metadata": {},
   "outputs": [],
   "source": [
    "def search_in_chroma(query, top_k=3):\n",
    "    embedding = get_embedding(query)\n",
    "    results = collection.query(\n",
    "        query_embeddings=[embedding],\n",
    "        n_results=top_k\n",
    "    )\n",
    "    \n",
    "    # Trả về danh sách các văn bản, không phải danh sách con\n",
    "    return [result[0] for result in results['documents']] "
   ]
  },
  {
   "cell_type": "code",
   "execution_count": 9,
   "metadata": {},
   "outputs": [],
   "source": [
    "# Trả lời câu hỏi dựa trên văn bản từ ChromaDB\n",
    "def generate_answer(query):\n",
    "    context = \"\\n\".join(search_in_chroma(query))  # Kết hợp các đoạn văn bản thành một chuỗi\n",
    "    if context:\n",
    "        prompt = f\"Trả lời câu hỏi sau dựa trên thông tin dưới đây:\\n\\n{context}\\n\\nCâu hỏi: {query}\\nTrả lời:\"\n",
    "        response = openai.ChatCompletion.create(\n",
    "            model=\"gpt-3.5-turbo\",  # Chọn mô hình gpt-3.5-turbo thay vì text-davinci-003\n",
    "            messages=[\n",
    "                {\"role\": \"system\", \"content\": \"Bạn là một trợ lý thông minh.\"},\n",
    "                {\"role\": \"user\", \"content\": prompt}\n",
    "            ],\n",
    "            max_tokens=150\n",
    "        )\n",
    "        return response['choices'][0]['message']['content'].strip()\n",
    "    else:\n",
    "        return \"Xin lỗi, tôi không thể tìm thấy thông tin liên quan đến câu hỏi của bạn.\"\n"
   ]
  },
  {
   "cell_type": "code",
   "execution_count": 10,
   "metadata": {},
   "outputs": [],
   "source": [
    "def chat():\n",
    "    print(\"Chào bạn! Tôi là trợ lý ảo của Mai Thư. Bạn có thể hỏi tôi bất cứ câu hỏi nào.\")\n",
    "    while True:\n",
    "        user_input = input(\"Bạn: \")\n",
    "        if user_input.lower() in [\"exit\", \"quit\", \"bye\"]:\n",
    "            print(\"Tạm biệt!\")\n",
    "            break\n",
    "\n",
    "        print(f\"\\nCâu hỏi của bạn: {user_input}\\n\")\n",
    "        answer = generate_answer(user_input) \n",
    "        \n",
    "        print(f\"Chatbot: {answer}\")\n",
    "        \n",
    "        collect_user_feedback(user_input, answer)\n",
    "        \n",
    "        "
   ]
  },
  {
   "cell_type": "code",
   "execution_count": 13,
   "metadata": {},
   "outputs": [
    {
     "name": "stdout",
     "output_type": "stream",
     "text": [
      "Chào bạn! Tôi là trợ lý ảo của Mai Thư. Bạn có thể hỏi tôi bất cứ câu hỏi nào.\n",
      "\n",
      "Câu hỏi của bạn: i need some informations of Take away box\n",
      "\n",
      "Chatbot: Thông tin về hộp đựng thức ăn mang về (Take away box) bao gồm:\n",
      "- Vật liệu: Kraft, Ivory, giấy carton 3 lớp,...\n",
      "- Trọng lượng giấy: 250gsm - 400gsm,...\n",
      "- Phương pháp in: Offset / Flexo, 1 màu / nhiều màu\n",
      "- Kiểu dáng: Có cửa sổ / không có cửa sổ\n",
      "- Các kích thước và loại hộp khác nhau như hộp cốc coffee mang về, hộ\n",
      "Cảm ơn bạn!\n",
      "\n",
      "Câu hỏi của bạn: what about  Cup carrier tray\n",
      "\n",
      "Chatbot: Cup carrier tray is one of the products in Mai Thu's product range. It is made from white kraft and brown kraft with a paper weight of 350gsm. The printing method used for Cup carrier tray is Offset/Flexo, and it comes in a style with 2 cups or 4 cups.\n",
      "Cảm ơn bạn đã phản hồi! Tôi sẽ cải thiện.\n",
      "\n",
      "Câu hỏi của bạn: and bread bag\n",
      "\n",
      "Chatbot: Bread bag.\n",
      "Cảm ơn bạn đã phản hồi! Tôi sẽ cải thiện.\n",
      "\n",
      "Câu hỏi của bạn: Do mai thu packaging produce toys for kids?\n",
      "\n",
      "Chatbot: Dựa vào thông tin đã cung cấp, Mai Thu Packaging sản xuất những sản phẩm như hộp đựng thức ăn mang đi, hộp bánh pizza, túi bánh mỳ, đồ dùng giấy và phụ kiện, đồ chơi nhà giấy cho trẻ em, nhà cho thú cưng và bộ đồ chơi dành cho trẻ em. Vì vậy, có thể nói rằng Mai Thu Packaging sản xuất đồ chơi cho trẻ em.\n",
      "Cảm ơn bạn đã phản hồi! Tôi sẽ cải thiện.\n",
      "\n",
      "Câu hỏi của bạn: những đồ chơi nào được sản xuất bởi mai thư\n",
      "\n",
      "Chatbot: Công ty Cổ phần Bao Bì Mai Thư sản xuất các sản phẩm bao bì giấy in offset, bao bì giấy in offset bồi carton, bao bì giấy carton, bao bì giấy cho thực phẩm, sản phẩm giấy gói quà, cũng như các sản phẩm công nghiệp giấy khác.\n",
      "Cảm ơn bạn đã phản hồi! Tôi sẽ cải thiện.\n",
      "\n",
      "Câu hỏi của bạn: liệt kê  CHẾ ĐỘ PHÚC LỢI\n",
      "\n",
      "Chatbot: Công ty Cổ phần Bao Bì Mai Thư cung cấp các chế độ phúc lợi như sau:\n",
      "\n",
      "1. Thưởng các dịp Lễ lớn như Ngày Quốc tế Phụ nữ, Lễ Hùng Vương, Ngày Quốc Khánh, Tết Dương Lịch.\n",
      "2. Hỗ trợ học trò con của cán bộ nhân viên.\n",
      "3. Hỗ trợ thăm hỏi đối với các sự kiện như sinh nhật, sinh em bé, ốm đau, kết hôn,\n",
      "Cảm ơn bạn!\n",
      "\n",
      "Câu hỏi của bạn: Liệt kê đầy đủ tất cả phúc lợi của công ty\n",
      "\n",
      "Chatbot: Công ty Cổ phần Bao Bì Mai Thư cung cấp các chính sách và chế độ phúc lợi sau cho nhân viên:\n",
      "\n",
      "1. Thưởng các dịp Lễ lớn như Ngày Quốc tế Phụ nữ 8/3, Lễ Hùng Vương và 30/04 - 01/05, Lễ Quốc Khánh 2/9, Tết Dương Lịch với mức thưởng khác nhau tùy theo thâm niên làm việc tại công ty.\n",
      "2. Hỗ tr\n",
      "Cảm ơn bạn đã phản hồi! Tôi sẽ cải thiện.\n",
      "\n",
      "Câu hỏi của bạn: gói bảo hiểm sức khỏe của công ty như thế nào\n",
      "\n",
      "Chatbot: Công ty Cổ phần Bao Bì Mai Thư có các gói bảo hiểm sức khỏe như sau:\n",
      "- Gói số 1: Dành cho cán bộ, công nhân viên có thâm niên từ 1 đến 5 năm với mức phí 2.556.000 VNĐ/người.\n",
      "- Gói số 2: Dành cho cán bộ, công nhân viên có thâm niên từ 5 đến 10 năm với mức phí 4.725.000 VNĐ/người.\n",
      "- Gói số 3: Dành cho cán bộ\n",
      "Cảm ơn bạn đã phản hồi! Tôi sẽ cải thiện.\n",
      "Tạm biệt!\n"
     ]
    }
   ],
   "source": [
    "if __name__ == \"__main__\":\n",
    "    chat()\n"
   ]
  },
  {
   "cell_type": "code",
   "execution_count": null,
   "metadata": {},
   "outputs": [],
   "source": []
  }
 ],
 "metadata": {
  "kernelspec": {
   "display_name": "Python 3",
   "language": "python",
   "name": "python3"
  },
  "language_info": {
   "codemirror_mode": {
    "name": "ipython",
    "version": 3
   },
   "file_extension": ".py",
   "mimetype": "text/x-python",
   "name": "python",
   "nbconvert_exporter": "python",
   "pygments_lexer": "ipython3",
   "version": "3.12.9"
  }
 },
 "nbformat": 4,
 "nbformat_minor": 2
}
